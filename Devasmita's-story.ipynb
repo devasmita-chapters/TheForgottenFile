{
 "cells": [
  {
   "cell_type": "code",
   "execution_count": 29,
   "id": "0e635f56",
   "metadata": {},
   "outputs": [],
   "source": [
    "import os\n",
    "import textwrap\n",
    "import numpy as np\n",
    "from PIL import Image, ImageDraw, ImageFont\n",
    "import imageio\n",
    "from moviepy.editor import VideoFileClip, AudioFileClip\n",
    "from moviepy.editor import concatenate_audioclips\n",
    "\n"
   ]
  },
  {
   "cell_type": "code",
   "execution_count": null,
   "id": "1baa8e76",
   "metadata": {},
   "outputs": [],
   "source": [
    "# === CONFIG ===\n",
    "comic_panels = [\n",
    "    {\"image\": \"1. morning-light.jpg\", \"text\": \"Another day, same desk… and yet something about today feels slightly off...\"},\n",
    "    {\"image\": \"2. opening-light.jpg\", \"text\": \"Every dataset feels like a new landscape — but this one’s… different. Rows missing.. Patterns too neat.. hmmm weird!\"},\n",
    "    {\"image\": \"3. frown.jpg\", \"text\": \"Okay, who cleans up data this perfectly? Definitely not me before coffee....\"},\n",
    "    {\"image\": \"4. file.jpg\", \"text\": \"One moment I’m buried in dashboards, then out of nowhere, a file blinks on my desktop pops up.\"},\n",
    "    {\"image\": \"5. Leaning.jpg\", \"text\": \"Tempting!! Probably IT maintenance or could be… a dare??\"},\n",
    "    {\"image\": \"6. Clicks_open.jpg\", \"text\": \"This is an empty sheet. Except two words: 'Look outside.'\"},\n",
    "    {\"image\": \"7. Look-outside.jpg\", \"text\": \"Okay, nothing unusual. Just rain and my neighbor’s cat judging me again.\"},\n",
    "    {\"image\": \"8. Turning-back.jpg\", \"text\": \"Except… now the sheet says ‘Look closer.’\"},\n",
    "    {\"image\": \"9. New-tab.jpg\", \"text\": \"There’s a new tab open. I swear it wasn’t there before.\"},\n",
    "    {\"image\": \"10. typing.jpg\", \"text\": \"The cursor moves - slow, deliberate- typing on its own, but my hands aren’t on the keyboard.\"},\n",
    "    {\"image\": \"11. glitch.jpg\", \"text\": \"Maybe it’s just a glitch… or maybe my thoughts finally learned to type back.\"},\n",
    "    {\"image\": \"12. glow.jpg\", \"text\": \"what exactly is this file? and how the cursor is moving on its own?\"},\n",
    "    {\"image\": \"13. End.jpg\", \"text\":  \"And suddenly the last cell flashes: ‘You’re next.’\"}\n",
    "]\n",
    "\n",
    "video_file = \"comic_video.mp4\"\n",
    "final_video = \"comic_with_music.mp4\"\n",
    "audio_file = \"background.mp3\"  # 🎵 your downloaded background music\n",
    "font_path = \"comic.ttf\"\n",
    "bubble_scale = 0.42\n",
    "line_spacing = 16\n",
    "fps = 10\n",
    "display_seconds = 5\n",
    "fade_frames = 10"
   ]
  },
  {
   "cell_type": "code",
   "execution_count": 31,
   "id": "dafc3a4c",
   "metadata": {},
   "outputs": [],
   "source": [
    "# === DRAW SPEECH BUBBLE ===\n",
    "def draw_comic_bubble(draw, x, y, w, h, outline_color=(0, 0, 0, 255), fill_color=(255, 255, 255, 200)):\n",
    "    radius = h // 4\n",
    "    draw.rounded_rectangle([x, y, x + w, y + h],\n",
    "                           radius=radius, fill=fill_color,\n",
    "                           outline=outline_color, width=2)"
   ]
  },
  {
   "cell_type": "code",
   "execution_count": 32,
   "id": "c46df6f3",
   "metadata": {},
   "outputs": [],
   "source": [
    "# === PANEL RENDERING ===\n",
    "def draw_panel_with_bubble(panel):\n",
    "    img = Image.open(panel[\"image\"]).convert(\"RGBA\")\n",
    "    panel_w, panel_h = img.size\n",
    "    draw = ImageDraw.Draw(img, 'RGBA')\n",
    "\n",
    "    try:\n",
    "        font = ImageFont.truetype(font_path, 32)\n",
    "    except:\n",
    "        font = ImageFont.truetype(\"arial.ttf\", 32)\n",
    "\n",
    "    # Bubble dimensions\n",
    "    bubble_w = int(panel_w * bubble_scale)\n",
    "    bubble_h = int(panel_h * bubble_scale * 0.5)\n",
    "    bubble_y = 20\n",
    "    bubble_x = int(panel_w * 0.15)\n",
    "\n",
    "    # Draw bubble\n",
    "    draw_comic_bubble(draw, bubble_x, bubble_y, bubble_w, bubble_h)\n",
    "\n",
    "    # === Fit text dynamically ===\n",
    "    text = panel[\"text\"]\n",
    "    max_font_size = 32\n",
    "    min_font_size = 16\n",
    "    best_font = font\n",
    "    wrapped_text = text\n",
    "    for size in range(max_font_size, min_font_size - 1, -2):\n",
    "        current_font = ImageFont.truetype(font_path, size) if os.path.exists(font_path) else ImageFont.truetype(\"arial.ttf\", size)\n",
    "        chars_per_line = max(10, bubble_w // (size * 0.6))\n",
    "        wrapped = textwrap.fill(text, width=int(chars_per_line))\n",
    "        text_lines = wrapped.split(\"\\n\")\n",
    "        line_height = current_font.getbbox(\"A\")[3] - current_font.getbbox(\"A\")[1]\n",
    "        total_height = len(text_lines) * (line_height + line_spacing) - line_spacing\n",
    "\n",
    "        if total_height <= bubble_h * 0.85:  # fits comfortably\n",
    "            best_font = current_font\n",
    "            wrapped_text = wrapped\n",
    "            break\n",
    "\n",
    "    # === Draw text ===\n",
    "    text_lines = wrapped_text.split(\"\\n\")\n",
    "    line_height = best_font.getbbox(\"A\")[3] - best_font.getbbox(\"A\")[1]\n",
    "    text_block_height = (line_height + line_spacing) * len(text_lines) - line_spacing\n",
    "    text_y = bubble_y + (bubble_h - text_block_height) // 2\n",
    "\n",
    "    for line in text_lines:\n",
    "        text_w = draw.textlength(line, font=best_font)\n",
    "        text_x = bubble_x + (bubble_w - text_w) // 2\n",
    "        draw.text((text_x, text_y), line, font=best_font, fill=(0, 0, 0, 255))\n",
    "        text_y += line_height + line_spacing\n",
    "\n",
    "    return img.convert(\"RGB\")\n"
   ]
  },
  {
   "cell_type": "code",
   "execution_count": 33,
   "id": "f83e68d4",
   "metadata": {},
   "outputs": [],
   "source": [
    "# === CREATE VIDEO ===\n",
    "def create_video_from_panels(panels, video_output, fps=10, display_seconds=4, fade_frames=10):\n",
    "    frames = []\n",
    "    images = [draw_panel_with_bubble(panel) for panel in panels]\n",
    "    display_frames = display_seconds * fps\n",
    "\n",
    "    for i, img in enumerate(images):\n",
    "        frames.extend([np.array(img)] * display_frames)\n",
    "        if i < len(images) - 1:\n",
    "            next_img = np.array(images[i+1])\n",
    "            for f in range(1, fade_frames + 1):\n",
    "                alpha = f / (fade_frames + 1)\n",
    "                blended = np.array(img)*(1-alpha) + next_img*alpha\n",
    "                frames.append(blended.astype(np.uint8))\n",
    "\n",
    "    imageio.mimwrite(video_output, frames, fps=fps)\n",
    "    print(f\"✅ Video created successfully: {video_output}\")"
   ]
  },
  {
   "cell_type": "code",
   "execution_count": 34,
   "id": "f751297a",
   "metadata": {},
   "outputs": [],
   "source": [
    "# === MERGE VIDEO + BACKGROUND MUSIC ===\n",
    "def merge_video_audio(video_path, audio_path, output_path):\n",
    "    if not os.path.exists(audio_path):\n",
    "        print(\"⚠️ No background.mp3 found in the current folder. Skipping music merge.\")\n",
    "        os.rename(video_path, output_path)\n",
    "        return\n",
    "\n",
    "    print(\"🎬 Adding background music...\")\n",
    "    video = VideoFileClip(video_path)\n",
    "    audio = AudioFileClip(audio_path)\n",
    "\n",
    "    # Loop or trim audio to match video duration\n",
    "    if audio.duration < video.duration:\n",
    "        # Loop the audio manually\n",
    "        n_loops = int(np.ceil(video.duration / audio.duration))\n",
    "        audio = concatenate_audioclips([audio] * n_loops)\n",
    "    # Trim audio to exact video duration\n",
    "    audio = audio.subclip(0, video.duration)\n",
    "\n",
    "    # Combine video + audio\n",
    "    final = video.set_audio(audio)\n",
    "    final.write_videofile(output_path, codec=\"libx264\", audio_codec=\"aac\")\n",
    "    print(f\"🎵 Final video with background music saved as: {output_path}\")\n"
   ]
  },
  {
   "cell_type": "code",
   "execution_count": 35,
   "id": "06d257fe",
   "metadata": {},
   "outputs": [
    {
     "name": "stdout",
     "output_type": "stream",
     "text": [
      "✅ Video created successfully: comic_video.mp4\n",
      "🎬 Adding background music...\n",
      "Moviepy - Building video comic_with_music.mp4.\n",
      "MoviePy - Writing audio in comic_with_musicTEMP_MPY_wvf_snd.mp4\n"
     ]
    },
    {
     "name": "stderr",
     "output_type": "stream",
     "text": [
      "                                                                      \r"
     ]
    },
    {
     "name": "stdout",
     "output_type": "stream",
     "text": [
      "MoviePy - Done.\n",
      "Moviepy - Writing video comic_with_music.mp4\n",
      "\n"
     ]
    },
    {
     "name": "stderr",
     "output_type": "stream",
     "text": [
      "                                                               \r"
     ]
    },
    {
     "name": "stdout",
     "output_type": "stream",
     "text": [
      "Moviepy - Done !\n",
      "Moviepy - video ready comic_with_music.mp4\n",
      "🎵 Final video with background music saved as: comic_with_music.mp4\n"
     ]
    }
   ],
   "source": [
    "# === RUN ===\n",
    "if __name__ == \"__main__\":\n",
    "    create_video_from_panels(comic_panels, video_file,\n",
    "                             fps=fps, display_seconds=display_seconds, fade_frames=fade_frames)\n",
    "    merge_video_audio(video_file, audio_file, final_video)"
   ]
  }
 ],
 "metadata": {
  "kernelspec": {
   "display_name": "Storytelling_Devasmita",
   "language": "python",
   "name": "python3"
  },
  "language_info": {
   "codemirror_mode": {
    "name": "ipython",
    "version": 3
   },
   "file_extension": ".py",
   "mimetype": "text/x-python",
   "name": "python",
   "nbconvert_exporter": "python",
   "pygments_lexer": "ipython3",
   "version": "3.14.0"
  }
 },
 "nbformat": 4,
 "nbformat_minor": 5
}
